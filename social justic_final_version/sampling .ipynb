{
 "cells": [
  {
   "cell_type": "code",
   "execution_count": 4,
   "metadata": {},
   "outputs": [],
   "source": [
    "import pandas as pd\n",
    "def sampling(keyword,sampleNum):\n",
    "    data = pd.read_csv('final.csv',delimiter = '^',encoding='utf-8') \n",
    "    print(data.shape)\n",
    "    keyData = data[data['text'].str.contains(keyword)]\n",
    "    samples = keyData.sample(sampleNum)\n",
    "    print(samples.shape)\n",
    "    samples.to_csv(keyword+'.csv', sep='^', quotechar='\"')\n",
    "    data = data.drop(samples.index)\n",
    "    print(data.shape)\n",
    "    data.to_csv('final.csv', sep='^', quotechar='\"')"
   ]
  },
  {
   "cell_type": "code",
   "execution_count": 5,
   "metadata": {},
   "outputs": [
    {
     "name": "stdout",
     "output_type": "stream",
     "text": [
      "(89941, 20)\n",
      "(100, 20)\n",
      "(89841, 20)\n"
     ]
    }
   ],
   "source": [
    "sampling('اختلاس', 100)"
   ]
  },
  {
   "cell_type": "code",
   "execution_count": 68,
   "metadata": {},
   "outputs": [
    {
     "data": {
      "text/plain": [
       "(90774, 12)"
      ]
     },
     "execution_count": 68,
     "metadata": {},
     "output_type": "execute_result"
    }
   ],
   "source": [
    "data = pd.read_csv('final.csv')\n",
    "data.shape"
   ]
  },
  {
   "cell_type": "code",
   "execution_count": null,
   "metadata": {},
   "outputs": [],
   "source": []
  }
 ],
 "metadata": {
  "kernelspec": {
   "display_name": "Python 3",
   "language": "python",
   "name": "python3"
  },
  "language_info": {
   "codemirror_mode": {
    "name": "ipython",
    "version": 3
   },
   "file_extension": ".py",
   "mimetype": "text/x-python",
   "name": "python",
   "nbconvert_exporter": "python",
   "pygments_lexer": "ipython3",
   "version": "3.7.1"
  }
 },
 "nbformat": 4,
 "nbformat_minor": 2
}
